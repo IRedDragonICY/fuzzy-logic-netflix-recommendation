{
 "cells": [
  {
   "cell_type": "markdown",
   "id": "0d1b6fbd",
   "metadata": {},
   "source": [
    "# Fuzzy Logic Analysis of Movie Data\n",
    "\n",
    "## Introduction\n",
    "\n",
    "In this notebook, we perform a fuzzy logic analysis on a dataset of movies from Netflix. The goal is to evaluate movies based on their IMDb rating, release year, and the number of votes they have received. By employing fuzzy logic principles, we handle the inherent uncertainty and vagueness in classifying movies into categories such as *Low*, *Medium*, or *High* quality. This approach allows for a more nuanced assessment compared to traditional binary classifications.\n"
   ]
  },
  {
   "cell_type": "markdown",
   "id": "1a49a1fc",
   "metadata": {},
   "source": [
    "## Dataset Information\n",
    "\n",
    "### Objective\n",
    "\n",
    "The objective of this analysis is to utilize fuzzy logic techniques to classify movies into quality categories based on multiple input attributes. By considering factors such as IMDb rating, release year, and the number of votes, we aim to model the inherently fuzzy concept of \"movie quality\".\n",
    "\n",
    "### Attributes\n",
    "\n",
    "The dataset contains the following attributes:\n",
    "\n",
    "- **title**: The title of the movie.\n",
    "- **type**: The type of content (e.g., movie, series).\n",
    "- **genres**: The genres associated with the movie (e.g., Drama, Comedy).\n",
    "- **releaseYear**: The year the movie was released.\n",
    "- **imdbAverageRating**: The average IMDb rating of the movie (scale of 0.0 to 10.0).\n",
    "- **imdbNumVotes**: The total number of votes the movie has received on IMDb.\n",
    "- **availableCountries**: The countries where the movie is available on Netflix.\n",
    "\n",
    "### Dataset Overview\n",
    "\n",
    "- **Total number of records**: The dataset contains 4,789 movies after cleaning.\n",
    "- **Input attributes**: `imdbAverageRating`, `releaseYear`, `imdbNumVotes`.\n",
    "- **Output attribute**: `movie_quality_score` (calculated using fuzzy logic).\n",
    "\n"
   ]
  },
  {
   "cell_type": "markdown",
   "id": "b6985d427e8a8438",
   "metadata": {},
   "source": [
    "## Methodology\n",
    "\n",
    "### Data Pre-processing\n",
    "\n",
    "Before applying the fuzzy logic model, we perform the following data pre-processing steps:\n",
    "\n",
    "1. **Data Cleaning**: Remove rows with missing values to ensure data integrity.\n",
    "2. **Feature Selection**: Select relevant features for the analysis (`imdbAverageRating`, `releaseYear`, `imdbNumVotes`).\n",
    "\n",
    "### Design of Fuzzy Logic Framework\n",
    "\n",
    "We design a fuzzy logic system with three input variables and one output variable.\n",
    "\n",
    "#### Input Variables\n",
    "\n",
    "1. **IMDb Rating** (`imdb_rating`): Represents the average user rating of the movie on IMDb, ranging from 0.0 to 10.0.\n",
    "2. **Release Year** (`release_year`): The year the movie was released.\n",
    "3. **Number of Votes** (`num_votes`): Total number of votes the movie has received on IMDb.\n",
    "\n",
    "#### Output Variable\n",
    "\n",
    "1. **Movie Quality** (`movie_quality`): The inferred quality of the movie based on the input variables, categorized as *Low*, *Medium*, or *High*.\n",
    "\n",
    "### Membership Functions Design\n",
    "\n",
    "#### IMDb Rating\n",
    "\n",
    "- **Low**: Ratings between 0.0 and 5.0.\n",
    "- **Medium**: Ratings between 4.0 and 7.0.\n",
    "- **High**: Ratings between 6.0 and 10.0.\n",
    "\n",
    "#### Release Year\n",
    "\n",
    "- **Classic**: Movies released between the earliest year in the dataset and 1990.\n",
    "- **Modern**: Movies released between 1985 and 2010.\n",
    "- **Contemporary**: Movies released between 2000 and the latest year in the dataset.\n",
    "\n",
    "#### Number of Votes\n",
    "\n",
    "- **Few**: Up to 150,000 votes.\n",
    "- **Average**: Between 100,000 and 400,000 votes.\n",
    "- **Many**: 300,000 votes and above.\n",
    "\n",
    "#### Movie Quality\n",
    "\n",
    "- **Low**: Quality scores between 0 and 5.\n",
    "- **Medium**: Quality scores between 4 and 7.\n",
    "- **High**: Quality scores between 6 and 10.\n",
    "\n",
    "### Constructing Fuzzy Logic Rules\n",
    "\n",
    "We construct the following fuzzy logic rules based on domain expertise:\n",
    "\n",
    "1. **Rule 1**: IF the *IMDb Rating* is *High* AND the *Number of Votes* is *Many*, THEN the *Movie Quality* is *High*.\n",
    "2. **Rule 2**: IF the *IMDb Rating* is *Medium* AND the *Number of Votes* is *Average*, THEN the *Movie Quality* is *Medium*.\n",
    "3. **Rule 3**: IF the *IMDb Rating* is *Low* AND the *Number of Votes* is *Few*, THEN the *Movie Quality* is *Low*.\n",
    "4. **Rule 4**: IF the *IMDb Rating* is *High* AND the *Release Year* is *Classic*, THEN the *Movie Quality* is *High*.\n",
    "5. **Rule 5**: IF the *IMDb Rating* is *Medium* AND the *Release Year* is *Modern*, THEN the *Movie Quality* is *Medium*.\n",
    "6. **Rule 6**: IF the *IMDb Rating* is *Low* OR the *Number of Votes* is *Few*, THEN the *Movie Quality* is *Low*.\n",
    "7. **Rule 7**: IF the *IMDb Rating* is *High*, THEN the *Movie Quality* is *High*.\n",
    "8. **Rule 8**: IF the *IMDb Rating* is *Medium*, THEN the *Movie Quality* is *Medium*.\n",
    "9. **Rule 9**: IF the *IMDb Rating* is *Low*, THEN the *Movie Quality* is *Low*.\n",
    "\n",
    "These rules aim to capture the relationships between the input variables and the perceived movie quality."
   ]
  },
  {
   "cell_type": "markdown",
   "id": "c1a25eb4e1812ff7",
   "metadata": {},
   "source": [
    "## Setup\n",
    "\n",
    "First, we install and import the necessary libraries."
   ]
  },
  {
   "cell_type": "code",
   "id": "c26ede9a",
   "metadata": {},
   "source": [
    "!pip install numpy pandas scikit-fuzzy matplotlib requests"
   ],
   "outputs": [],
   "execution_count": null
  },
  {
   "cell_type": "markdown",
   "id": "1b3dadd3",
   "metadata": {},
   "source": [
    "### Importing Necessary Libraries"
   ]
  },
  {
   "cell_type": "code",
   "id": "cdfba8b9",
   "metadata": {},
   "source": [
    "import numpy as np\n",
    "import pandas as pd\n",
    "import skfuzzy as fuzz\n",
    "from skfuzzy import control as ctrl\n",
    "import matplotlib.pyplot as plt\n",
    "%matplotlib inline"
   ],
   "outputs": [],
   "execution_count": null
  },
  {
   "cell_type": "markdown",
   "id": "8bd960fb7970e0a2",
   "metadata": {},
   "source": [
    "### Import Dataset\n",
    "\n",
    "Dataset Link: [Full Netflix Movies and TV Shows Dataset](https://www.kaggle.com/datasets/octopusteam/full-netflix-dataset)\n",
    "\n",
    "> **Note:** Ensure that you have the necessary permissions and API credentials to download the dataset from Kaggle. Place the dataset in the `./data` directory if the automated download does not work."
   ]
  },
  {
   "cell_type": "code",
   "id": "606b4bb2",
   "metadata": {},
   "source": [
    "import requests\n",
    "import zipfile\n",
    "from io import BytesIO\n",
    "\n",
    "# Download and extract the dataset\n",
    "dataset_url = 'https://www.kaggle.com/api/v1/datasets/download/octopusteam/full-netflix-dataset'\n",
    "\n",
    "try:\n",
    "    response = requests.get(dataset_url, allow_redirects=True)\n",
    "    zipfile.ZipFile(BytesIO(response.content)).extractall('./data')\n",
    "    print('Dataset downloaded and extracted successfully.')\n",
    "except Exception as e:\n",
    "    print(f\"Error downloading the dataset: {e}\")\n",
    "    print(\"Please ensure you have the dataset in the './data' directory.\")"
   ],
   "outputs": [],
   "execution_count": null
  },
  {
   "cell_type": "markdown",
   "id": "f69c9f907d6509bc",
   "metadata": {},
   "source": [
    "### Data Pre-processing"
   ]
  },
  {
   "cell_type": "code",
   "id": "31cc8d8c",
   "metadata": {},
   "source": [
    "# Load the dataset\n",
    "df = pd.read_csv('./data/data.csv')\n",
    "\n",
    "# Drop rows with missing values\n",
    "df_cleaned = df.dropna()\n",
    "\n",
    "# Drop the 'imdbId' column as it is not needed\n",
    "df_cleaned = df_cleaned.drop(columns=['imdbId'])\n",
    "\n",
    "# Save the cleaned data\n",
    "df_cleaned.to_csv('./data/data-cleaned.csv', index=False)\n",
    "\n",
    "print('Dataset cleaned and saved to ./data/data-cleaned.csv')"
   ],
   "outputs": [],
   "execution_count": null
  },
  {
   "cell_type": "markdown",
   "id": "1c4339e0",
   "metadata": {},
   "source": [
    "## Loading the Dataset"
   ]
  },
  {
   "cell_type": "code",
   "id": "f6dabbaa",
   "metadata": {},
   "source": [
    "# Load the cleaned dataset\n",
    "data = pd.read_csv('./data/data-cleaned.csv')\n",
    "\n",
    "# Display the first few rows\n",
    "data.head()"
   ],
   "outputs": [],
   "execution_count": null
  },
  {
   "cell_type": "markdown",
   "id": "b1f60ec4",
   "metadata": {},
   "source": [
    "## Defining Fuzzy Variables\n",
    "\n",
    "We define fuzzy variables for the input and output variables.\n",
    "\n",
    "### Defining the Universes\n",
    "\n",
    "We determine the ranges (universes) for each variable based on the dataset."
   ]
  },
  {
   "cell_type": "code",
   "id": "dcc04ec1",
   "metadata": {},
   "source": [
    "# Determine the data ranges\n",
    "min_year = data['releaseYear'].min()\n",
    "max_year = data['releaseYear'].max()\n",
    "max_votes = data['imdbNumVotes'].max()\n",
    "\n",
    "print(f\"Release Year Range: {min_year} - {max_year}\")\n",
    "print(f\"Number of Votes Range: 0 - {max_votes}\")\n",
    "\n",
    "# Define the universal variables\n",
    "imdb_rating = ctrl.Antecedent(np.arange(0, 10.1, 0.1), 'imdb_rating')\n",
    "release_year = ctrl.Antecedent(np.arange(min_year, max_year + 1, 1), 'release_year')\n",
    "num_votes = ctrl.Antecedent(np.arange(0, max_votes + 1, 10000), 'num_votes')\n",
    "movie_quality = ctrl.Consequent(np.arange(0, 11, 1), 'movie_quality')"
   ],
   "outputs": [],
   "execution_count": null
  },
  {
   "cell_type": "markdown",
   "id": "457f4b9c",
   "metadata": {},
   "source": [
    "### Designing Membership Functions"
   ]
  },
  {
   "cell_type": "code",
   "id": "6029b95d",
   "metadata": {},
   "source": [
    "# IMDb Rating Membership Functions\n",
    "imdb_rating['low'] = fuzz.trapmf(imdb_rating.universe, [0, 0, 3, 5])\n",
    "imdb_rating['medium'] = fuzz.trimf(imdb_rating.universe, [4, 5.5, 7])\n",
    "imdb_rating['high'] = fuzz.trapmf(imdb_rating.universe, [6, 8, 10, 10])\n",
    "\n",
    "# Release Year Membership Functions\n",
    "release_year['classic'] = fuzz.trapmf(release_year.universe, [min_year, min_year, 1970, 1990])\n",
    "release_year['modern'] = fuzz.trapmf(release_year.universe, [1985, 2000, 2010, 2020])\n",
    "release_year['contemporary'] = fuzz.trapmf(release_year.universe, [2000, 2020, max_year, max_year])\n",
    "\n",
    "# Number of Votes Membership Functions\n",
    "num_votes['few'] = fuzz.trapmf(num_votes.universe, [0, 0, 50000, 150000])\n",
    "num_votes['average'] = fuzz.trimf(num_votes.universe, [100000, 200000, 400000])\n",
    "num_votes['many'] = fuzz.trapmf(num_votes.universe, [300000, 500000, max_votes, max_votes])\n",
    "\n",
    "# Movie Quality Membership Functions\n",
    "movie_quality['low'] = fuzz.trapmf(movie_quality.universe, [0, 0, 3, 5])\n",
    "movie_quality['medium'] = fuzz.trimf(movie_quality.universe, [4, 5.5, 7])\n",
    "movie_quality['high'] = fuzz.trapmf(movie_quality.universe, [6, 8, 10, 10])"
   ],
   "outputs": [],
   "execution_count": null
  },
  {
   "cell_type": "markdown",
   "id": "6dfd296d",
   "metadata": {},
   "source": [
    "### Visualizing Membership Functions"
   ]
  },
  {
   "cell_type": "code",
   "id": "8fe2f62f",
   "metadata": {},
   "source": [
    "# Visualize IMDb Rating Membership Functions\n",
    "imdb_rating.view()\n",
    "plt.show()"
   ],
   "outputs": [],
   "execution_count": null
  },
  {
   "cell_type": "code",
   "id": "e012863a",
   "metadata": {},
   "source": [
    "# Visualize Release Year Membership Functions\n",
    "release_year.view()\n",
    "plt.show()"
   ],
   "outputs": [],
   "execution_count": null
  },
  {
   "cell_type": "code",
   "id": "2e14a55e",
   "metadata": {},
   "source": [
    "# Visualize Number of Votes Membership Functions\n",
    "num_votes.view()\n",
    "plt.show()"
   ],
   "outputs": [],
   "execution_count": null
  },
  {
   "cell_type": "code",
   "id": "0e9bccfe",
   "metadata": {},
   "source": [
    "# Visualize Movie Quality Membership Functions\n",
    "movie_quality.view()\n",
    "plt.show()"
   ],
   "outputs": [],
   "execution_count": null
  },
  {
   "cell_type": "markdown",
   "id": "b8be2419",
   "metadata": {},
   "source": [
    "## Constructing Fuzzy Logic Rules\n",
    "\n",
    "We implement the fuzzy logic rules as defined in the methodology."
   ]
  },
  {
   "cell_type": "code",
   "id": "e3102beb",
   "metadata": {},
   "source": [
    "# Rule definitions\n",
    "rule1 = ctrl.Rule(imdb_rating['high'] & num_votes['many'], movie_quality['high'])\n",
    "rule2 = ctrl.Rule(imdb_rating['medium'] & num_votes['average'], movie_quality['medium'])\n",
    "rule3 = ctrl.Rule(imdb_rating['low'] & num_votes['few'], movie_quality['low'])\n",
    "rule4 = ctrl.Rule(imdb_rating['high'] & release_year['classic'], movie_quality['high'])\n",
    "rule5 = ctrl.Rule(imdb_rating['medium'] & release_year['modern'], movie_quality['medium'])\n",
    "rule6 = ctrl.Rule(imdb_rating['low'] | num_votes['few'], movie_quality['low'])\n",
    "rule7 = ctrl.Rule(imdb_rating['high'], movie_quality['high'])\n",
    "rule8 = ctrl.Rule(imdb_rating['medium'], movie_quality['medium'])\n",
    "rule9 = ctrl.Rule(imdb_rating['low'], movie_quality['low'])"
   ],
   "outputs": [],
   "execution_count": null
  },
  {
   "cell_type": "markdown",
   "id": "d16b1f32",
   "metadata": {},
   "source": [
    "## Building the Control System\n",
    "\n",
    "We build the fuzzy control system by adding all the rules."
   ]
  },
  {
   "cell_type": "code",
   "id": "1170c33a",
   "metadata": {},
   "source": [
    "# Build the control system with all the rules\n",
    "movie_quality_ctrl = ctrl.ControlSystem([\n",
    "    rule1, rule2, rule3, rule4, rule5, rule6, rule7, rule8, rule9\n",
    "])\n",
    "\n",
    "# Note: We will create new simulation instances for each computation to avoid state issues."
   ],
   "outputs": [],
   "execution_count": null
  },
  {
   "cell_type": "markdown",
   "id": "ad86e640",
   "metadata": {},
   "source": [
    "## Applying the Fuzzy Model to the Dataset\n",
    "\n",
    "We apply the fuzzy logic model to each movie in the dataset and compute its quality score. The function `compute_movie_quality` is defined to handle the computation for each row."
   ]
  },
  {
   "cell_type": "code",
   "id": "279540ab",
   "metadata": {},
   "source": [
    "# Function to compute movie quality\n",
    "def compute_movie_quality(row):\n",
    "    # Create a new simulation instance for each row\n",
    "    movie_quality_simulation = ctrl.ControlSystemSimulation(movie_quality_ctrl)\n",
    "\n",
    "    # Initialize variables\n",
    "    imdb_rating_value = None\n",
    "    release_year_value = None\n",
    "    num_votes_value = None\n",
    "\n",
    "    try:\n",
    "        # Set input values\n",
    "        imdb_rating_value = row['imdbAverageRating']\n",
    "        release_year_value = row['releaseYear']\n",
    "        num_votes_value = row['imdbNumVotes']\n",
    "\n",
    "        # Clip inputs to universes\n",
    "        imdb_rating_value = np.clip(imdb_rating_value, imdb_rating.universe[0], imdb_rating.universe[-1])\n",
    "        release_year_value = np.clip(release_year_value, release_year.universe[0], release_year.universe[-1])\n",
    "        num_votes_value = np.clip(num_votes_value, num_votes.universe[0], num_votes.universe[-1])\n",
    "\n",
    "        # Set inputs\n",
    "        movie_quality_simulation.input['imdb_rating'] = imdb_rating_value\n",
    "        movie_quality_simulation.input['release_year'] = release_year_value\n",
    "        movie_quality_simulation.input['num_votes'] = num_votes_value\n",
    "\n",
    "        # Compute the fuzzy result\n",
    "        movie_quality_simulation.compute()\n",
    "\n",
    "        return movie_quality_simulation.output['movie_quality']\n",
    "\n",
    "    except Exception as ex:\n",
    "        print(f\"Error computing for row {row.name}: {ex}\")\n",
    "        print(f\"Inputs: imdb_rating={imdb_rating_value}, release_year={release_year_value}, num_votes={num_votes_value}\")\n",
    "        return np.nan"
   ],
   "outputs": [],
   "execution_count": null
  },
  {
   "cell_type": "markdown",
   "id": "5b6ec7b6",
   "metadata": {},
   "source": [
    "## Results\n",
    "\n",
    "### Adding the Classification Results to the Dataset\n",
    "\n",
    "We have added a new column `movie_quality_score` to the dataset, which contains the computed quality score for each movie."
   ]
  },
  {
   "cell_type": "code",
   "id": "dda4e1e7",
   "metadata": {},
   "source": [
    "# Display the updated dataset with the new column\n",
    "data.head()"
   ],
   "outputs": [],
   "execution_count": null
  },
  {
   "cell_type": "markdown",
   "id": "98fed008",
   "metadata": {},
   "source": [
    "### Classification of Movies\n",
    "\n",
    "We classify movies into quality categories based on the `movie_quality_score`."
   ]
  },
  {
   "cell_type": "code",
   "id": "448acb2e",
   "metadata": {},
   "source": [
    "# Define a function to classify the movies\n",
    "def classify_movie(score):\n",
    "    if score >= 6.0:\n",
    "        return 'High'\n",
    "    elif score >= 4.0:\n",
    "        return 'Medium'\n",
    "    else:\n",
    "        return 'Low'\n",
    "\n",
    "# Apply the classification\n",
    "data['movie_quality_category'] = data['movie_quality_score'].apply(classify_movie)"
   ],
   "outputs": [],
   "execution_count": null
  },
  {
   "cell_type": "markdown",
   "id": "11a3e5f7",
   "metadata": {},
   "source": [
    "### Displaying Movies with Highest Quality Scores"
   ]
  },
  {
   "cell_type": "code",
   "id": "bfc7912b",
   "metadata": {},
   "source": [
    "# Display the top 10 movies with the highest quality scores\n",
    "top_movies = data.sort_values(by='movie_quality_score', ascending=False)\n",
    "top_movies[['title', 'imdbAverageRating', 'releaseYear', 'imdbNumVotes', 'movie_quality_score', 'movie_quality_category']].head(10)"
   ],
   "outputs": [],
   "execution_count": null
  },
  {
   "cell_type": "markdown",
   "id": "b578ad20",
   "metadata": {},
   "source": [
    "### Visualizing the Movie Quality Distribution"
   ]
  },
  {
   "cell_type": "code",
   "id": "e7be45a6",
   "metadata": {},
   "source": [
    "# Plot the distribution of movie quality scores\n",
    "plt.figure(figsize=(10,6))\n",
    "plt.hist(data['movie_quality_score'].dropna(), bins=20, color='skyblue', edgecolor='black')\n",
    "plt.title('Distribution of Movie Quality Scores')\n",
    "plt.xlabel('Movie Quality Score')\n",
    "plt.ylabel('Number of Movies')\n",
    "plt.grid(True)\n",
    "plt.show()"
   ],
   "outputs": [],
   "execution_count": null
  },
  {
   "cell_type": "markdown",
   "id": "0d9d278e",
   "metadata": {},
   "source": [
    "### Classification Accuracy\n",
    "\n",
    "Since we are creating the classification ourselves, we can evaluate the distribution of movies across the quality categories."
   ]
  },
  {
   "cell_type": "code",
   "id": "cce0f5bd",
   "metadata": {},
   "source": [
    "# Count the number of movies in each category\n",
    "category_counts = data['movie_quality_category'].value_counts()\n",
    "print(\"Movie Quality Category Counts:\")\n",
    "print(category_counts)\n",
    "\n",
    "# Plot the counts\n",
    "category_counts.plot(kind='bar', color='skyblue', edgecolor='black')\n",
    "plt.title('Number of Movies in Each Quality Category')\n",
    "plt.xlabel('Movie Quality Category')\n",
    "plt.ylabel('Number of Movies')\n",
    "plt.grid(True)\n",
    "plt.show()"
   ],
   "outputs": [],
   "execution_count": null
  },
  {
   "cell_type": "markdown",
   "id": "e47bc537",
   "metadata": {},
   "source": [
    "## Conclusion\n",
    "\n",
    "Using fuzzy logic, we have developed a model to evaluate movies based on their IMDb rating, release year, and number of votes. This approach allows us to handle uncertainties and subjective judgments inherent in movie quality assessment. The fuzzy logic system utilizes rules that encapsulate expert knowledge, enabling nuanced classifications of movie quality.\n",
    "\n",
    "By analyzing the `movie_quality_score` and the assigned categories, we gain insights into the characteristics of movies that are deemed to be of high, medium, or low quality. The visualizations help understand the distribution of movies across different quality levels.\n",
    "\n",
    "This analysis demonstrates the applicability of fuzzy logic in fields where human-like reasoning and handling of uncertainty are beneficial. The approach can be extended or modified for other datasets and domains where qualitative assessments are required."
   ]
  }
 ],
 "metadata": {
  "kernelspec": {
   "display_name": "Python 3",
   "language": "python",
   "name": "python3"
  },
  "language_info": {
   "name": "python",
   "version": "3.9",
   "mimetype": "text/x-python",
   "codemirror_mode": {
    "name": "ipython",
    "version": 3
   },
   "pygments_lexer": "ipython3",
   "nbconvert_exporter": "python",
   "file_extension": ".py"
  }
 },
 "nbformat": 4,
 "nbformat_minor": 5
}
